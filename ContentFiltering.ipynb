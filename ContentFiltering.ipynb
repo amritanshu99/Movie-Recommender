{
 "cells": [
  {
   "cell_type": "code",
   "execution_count": 45,
   "id": "b6be24f7-d3eb-443e-a9f2-448af85137b1",
   "metadata": {},
   "outputs": [],
   "source": [
    "import pandas as pd\n",
    "import ast\n",
    "from sklearn.feature_extraction.text import TfidfVectorizer\n",
    "from sklearn.metrics.pairwise import cosine_similarity\n",
    "import pickle\n",
    "# pandas: Used for data manipulation and reading the CSV.\n",
    "\n",
    "# ast: Used to safely parse stringified lists (like genre lists).\n",
    "\n",
    "# TfidfVectorizer: Converts text to a matrix of TF-IDF features.\n",
    "\n",
    "# cosine_similarity: Measures similarity between two text vectors."
   ]
  },
  {
   "cell_type": "code",
   "execution_count": 46,
   "id": "f53aefac-2fa3-44e0-a58b-5f3fdb765641",
   "metadata": {},
   "outputs": [
    {
     "name": "stdout",
     "output_type": "stream",
     "text": [
      "✅ STEP 1: Data loaded. Number of rows: 4803\n"
     ]
    }
   ],
   "source": [
    "# ✅ STEP 1: Load the dataset (CSV file)\n",
    "# Replace this with your uploaded file name/path\n",
    "df = pd.read_csv(\"movies.csv\")\n",
    "print(\"✅ STEP 1: Data loaded. Number of rows:\", len(df))\n",
    "# Loads your dataset (likely your full movie metadata) from a CSV file into a pandas DataFrame called df.\n",
    "\n"
   ]
  },
  {
   "cell_type": "code",
   "execution_count": 47,
   "id": "cc9716b4-b3ea-4542-b489-4475c97b1bee",
   "metadata": {},
   "outputs": [
    {
     "name": "stdout",
     "output_type": "stream",
     "text": [
      "✅ STEP 2: Null entries dropped. Remaining rows: 4800\n"
     ]
    }
   ],
   "source": [
    "# ✅ STEP 2: Remove rows that don't have essential info like title, overview or genres\n",
    "df = df.dropna(subset=[\"title\", \"overview\", \"genres\"])\n",
    "\n",
    "print(\"✅ STEP 2: Null entries dropped. Remaining rows:\", len(df))\n",
    "# Ensures the essential fields (title, overview, and genres) are present.\n",
    "\n",
    "# Removes any row with missing values in those fields."
   ]
  },
  {
   "cell_type": "code",
   "execution_count": 48,
   "id": "e5bed138-32f1-41e4-9aa6-3c189bb94a24",
   "metadata": {},
   "outputs": [
    {
     "name": "stdout",
     "output_type": "stream",
     "text": [
      "✅ STEP 3: Sample parsed genres:\n",
      " 0    Action Adventure Fantasy Science Fiction\n",
      "1                    Adventure Fantasy Action\n",
      "2                      Action Adventure Crime\n",
      "3                 Action Crime Drama Thriller\n",
      "4            Action Adventure Science Fiction\n",
      "Name: genres_parsed, dtype: object\n"
     ]
    }
   ],
   "source": [
    "# ✅ STEP 3: Convert 'genres' column from string to a readable list\n",
    "# This function turns '[{\"id\": 28, \"name\": \"Action\"}]' → \"Action\"\n",
    "def parse_genres(genre_str):\n",
    "    try:\n",
    "        genres = ast.literal_eval(genre_str)  # Converts string to Python list\n",
    "        return \" \".join([genre[\"name\"] for genre in genres])  # Keep only genre names\n",
    "    except:\n",
    "        return \"\"  # Return empty if conversion fails\n",
    "\n",
    "# Apply genre parsing to every row\n",
    "df[\"genres_parsed\"] = df[\"genres\"].apply(parse_genres)\n",
    "print(\"✅ STEP 3: Sample parsed genres:\\n\", df[\"genres_parsed\"].head())\n",
    "\n",
    "# Converts the genres field from string to a readable format (just genre names).\n",
    "\n",
    "# E.g., \"[{\"id\": 28, \"name\": \"Action\"}]\" → \"Action\""
   ]
  },
  {
   "cell_type": "code",
   "execution_count": 49,
   "id": "7703d22c-2470-4ce6-aba3-c6874d8a529e",
   "metadata": {},
   "outputs": [
    {
     "name": "stdout",
     "output_type": "stream",
     "text": [
      "✅ STEP 4: Sample metadata:\n",
      " 0    In the 22nd century, a paraplegic Marine is di...\n",
      "1    Captain Barbossa, long believed to be dead, ha...\n",
      "2    A cryptic message from Bond’s past sends him o...\n",
      "3    Following the death of District Attorney Harve...\n",
      "4    John Carter is a war-weary, former military ca...\n",
      "Name: metadata, dtype: object\n"
     ]
    }
   ],
   "source": [
    "# ✅ STEP 4: Combine 'overview' and 'genres' into a single column for processing\n",
    "# This gives more context to the recommendation engine\n",
    "df[\"metadata\"] = df[\"overview\"] + \" \" + df[\"genres_parsed\"]\n",
    "print(\"✅ STEP 4: Sample metadata:\\n\", df[\"metadata\"].head())\n",
    "\n",
    "# Merges the movie description and genre into one column called metadata.\n",
    "\n",
    "# This combined column is what your model will use to recommend similar movies."
   ]
  },
  {
   "cell_type": "code",
   "execution_count": 50,
   "id": "a0b10d4e-8d70-4ee2-ae68-fda7e73a5b47",
   "metadata": {},
   "outputs": [
    {
     "name": "stdout",
     "output_type": "stream",
     "text": [
      "✅ STEP 5: TF-IDF matrix shape: (4800, 20978)\n"
     ]
    }
   ],
   "source": [
    "# ✅ STEP 5: Use TF-IDF to convert text into numerical format\n",
    "# TF-IDF helps understand which words are important by comparing across all movies\n",
    "tfidf = TfidfVectorizer(stop_words=\"english\")  # Remove common English words like \"the\", \"and\"\n",
    "tfidf_matrix = tfidf.fit_transform(df[\"metadata\"])  # Transform text into vector\n",
    "\n",
    "\n",
    "print(\"✅ STEP 5: TF-IDF matrix shape:\", tfidf_matrix.shape)\n",
    "# TfidfVectorizer: Converts text into numbers using the TF-IDF (Term Frequency–Inverse Document Frequency) technique.\n",
    "\n",
    "# stop_words='english': Removes common words like “the”, “and”, “is” etc., to focus on meaningful words.\n",
    "\n",
    "# fit_transform(...): Fits the vectorizer to your metadata column and transforms each movie’s text into a vector of numbers.\n",
    "\n",
    "# 🔍 Why TF-IDF?\n",
    "\n",
    "# It gives more weight to unique words and reduces weight for frequent/common ones.\n",
    "\n",
    "# For example, \"alien\" in a sci-fi movie is more meaningful than \"the\".\n",
    "\n",
    "\n",
    "# \"action space alien\"\n",
    "# [action: 0.7, space: 0.6, alien: 0.8, ...rest: 0.0]\n",
    "# It is a sparse matrix of shape (num_movies, num_unique_words).\n",
    "\n",
    "# Each row is a numeric vector representation of a movie's combined metadata."
   ]
  },
  {
   "cell_type": "code",
   "execution_count": 51,
   "id": "4d23a248-f932-48aa-90ca-842e6b721282",
   "metadata": {},
   "outputs": [],
   "source": [
    "# ✅ STEP 6: Calculate cosine similarity between all movies\n",
    "# This gives us how \"similar\" any two movies are based on metadata\n",
    "cosine_sim = cosine_similarity(tfidf_matrix, tfidf_matrix)\n",
    "\n",
    "# Calculates pairwise similarity between all movie vectors using cosine similarity.\n",
    "\n",
    "# It creates a big square matrix (n x n), where each cell [i][j] gives similarity between movie i and movie j.\n",
    "\n",
    "# 📌 Cosine similarity = 1 means exactly similar, 0 means no similarity."
   ]
  },
  {
   "cell_type": "code",
   "execution_count": 52,
   "id": "e9a95f91-c78a-4d93-8f9a-4af4abdb7829",
   "metadata": {},
   "outputs": [],
   "source": [
    "# ✅ STEP 7: Create a way to look up a movie's index by its title\n",
    "# We'll use this to fetch recommendations later\n",
    "df.reset_index(inplace=True)  # Ensure indices are correct\n",
    "indices = pd.Series(df.index, index=df[\"title\"]).drop_duplicates()\n",
    "\n",
    "# reset_index() gives every row a clean numeric index.\n",
    "\n",
    "# indices: A lookup map from lowercase title to DataFrame index.\n",
    "\n",
    "# indices['avatar'] → 0\n",
    "# indices['spectre'] → 2\n"
   ]
  },
  {
   "cell_type": "code",
   "execution_count": 53,
   "id": "58e6ed93-ce73-4cbe-93bc-7b7c4b638241",
   "metadata": {},
   "outputs": [],
   "source": [
    "# ✅ STEP 8: Define function to recommend movies\n",
    "from rapidfuzz import process  # Fast fuzzy matching\n",
    "\n",
    "# ✅ Function to find closest movie title with typo tolerance\n",
    "def get_closest_title(input_title, all_titles):\n",
    "    print(f\"\\n🧠 Matching input title: '{input_title}' with fuzzy logic...\")\n",
    "    match = process.extractOne(input_title, all_titles, score_cutoff=60)\n",
    "    \n",
    "    if match:\n",
    "        print(f\"✅ Closest match found: '{match[0]}' with similarity score: {match[1]}\")\n",
    "        return match[0]\n",
    "    \n",
    "    print(\"❌ No close match found above threshold (60).\")\n",
    "    return None\n",
    "\n",
    "# ✅ Recommendation function with logs\n",
    "def recommend_movies(input_title, num_recommendations=5):\n",
    "    print(\"\\n🎬 Starting movie recommendation...\")\n",
    "    \n",
    "    # Step 1: Get closest title using fuzzy matching\n",
    "    actual_title = get_closest_title(input_title, df[\"title\"])\n",
    "    \n",
    "    if not actual_title:\n",
    "        return [f\"❌ Movie not found: '{input_title}'. Try a different name.\"]\n",
    "\n",
    "    # Step 2: Get index of the matched movie\n",
    "    idx = indices[actual_title]\n",
    "    print(f\"🔢 Index of matched movie '{actual_title}' is: {idx}\")\n",
    "    \n",
    "    # Step 3: Calculate similarity scores with all other movies\n",
    "    sim_scores = list(enumerate(cosine_sim[idx]))\n",
    "    print(f\"📊 Calculated cosine similarity for {len(sim_scores)} movies.\")\n",
    "\n",
    "    # Step 4: Sort similarity scores in descending order and skip the first (same movie)\n",
    "    sim_scores = sorted(sim_scores, key=lambda x: x[1], reverse=True)[1:num_recommendations+1]\n",
    "    \n",
    "    print(\"📈 Top similar movie scores (excluding input movie):\")\n",
    "    for i, score in sim_scores:\n",
    "        print(f\"    - {df['title'].iloc[i]} (score: {score:.4f})\")\n",
    "\n",
    "    # Step 5: Extract recommended movie indices\n",
    "    movie_indices = [i[0] for i in sim_scores]\n",
    "    \n",
    "    # Step 6: Return top recommended movie titles\n",
    "    recommendations = df[\"title\"].iloc[movie_indices].tolist()\n",
    "    \n",
    "    print(f\"\\n✅ Recommendations for '{actual_title}': {recommendations}\")\n",
    "    return recommendations\n",
    "\n",
    "\n",
    "\n",
    "\n",
    "\n",
    "# Takes a movie title and finds its index.\n",
    "\n",
    "# Gets its cosine similarity vector (its similarity with all other movies).\n",
    "\n",
    "# Sorts the results and picks top 5 similar movies.\n",
    "\n",
    "# Returns their titles.\n",
    "\n",
    "# 🛡️ Note: [1:6] skips the first one (it’s the movie itself)."
   ]
  },
  {
   "cell_type": "code",
   "execution_count": 54,
   "id": "6f4f9490-34a6-456e-9b60-ca837721b40b",
   "metadata": {},
   "outputs": [
    {
     "name": "stdout",
     "output_type": "stream",
     "text": [
      "\n",
      "🎬 Top recommendations similar to 'spectre':\n",
      "\n",
      "🎬 Starting movie recommendation...\n",
      "\n",
      "🧠 Matching input title: 'spectre' with fuzzy logic...\n",
      "✅ Closest match found: 'Spectre' with similarity score: 85.71428571428572\n",
      "🔢 Index of matched movie 'Spectre' is: 2\n",
      "📊 Calculated cosine similarity for 4800 movies.\n",
      "📈 Top similar movie scores (excluding input movie):\n",
      "    - Never Say Never Again (score: 0.2621)\n",
      "    - From Russia with Love (score: 0.2108)\n",
      "    - Thunderball (score: 0.1989)\n",
      "    - Quantum of Solace (score: 0.1784)\n",
      "    - Safe Haven (score: 0.1653)\n",
      "\n",
      "✅ Recommendations for 'Spectre': ['Never Say Never Again', 'From Russia with Love', 'Thunderball', 'Quantum of Solace', 'Safe Haven']\n",
      "1. Never Say Never Again\n",
      "2. From Russia with Love\n",
      "3. Thunderball\n",
      "4. Quantum of Solace\n",
      "5. Safe Haven\n"
     ]
    }
   ],
   "source": [
    "# ✅ STEP 9: Try the recommendation engine\n",
    "movie_title = \"spectre\"  # Change this to any movie in your dataset\n",
    "print(f\"\\n🎬 Top recommendations similar to '{movie_title}':\")\n",
    "recommendations = recommend_movies(movie_title)\n",
    "for i, movie in enumerate(recommendations, 1):\n",
    "    print(f\"{i}. {movie}\")"
   ]
  },
  {
   "cell_type": "code",
   "execution_count": 55,
   "id": "2ee9eb61-0bfc-4206-81a3-851aa6095ecc",
   "metadata": {},
   "outputs": [
    {
     "name": "stdout",
     "output_type": "stream",
     "text": [
      "✅ Pickled model saved as recommender.pkl\n"
     ]
    }
   ],
   "source": [
    "with open(\"recommender.pkl\", \"wb\") as f:\n",
    "    pickle.dump((df, cosine_sim, indices), f)\n",
    "\n",
    "print(\"✅ Pickled model saved as recommender.pkl\")"
   ]
  },
  {
   "cell_type": "code",
   "execution_count": 44,
   "id": "6dd59625-6b8b-40e3-820c-532be0bb0102",
   "metadata": {},
   "outputs": [],
   "source": [
    "# Cosine Similarity is a way to measure how similar two things are, based on the angle between them — not their length.\n",
    "\n",
    "# Imagine:\n",
    "\n",
    "# Each movie is a point in space.\n",
    "\n",
    "# The textual metadata (like “action alien war”) is converted into a vector (a long arrow).\n",
    "\n",
    "# The smaller the angle between two movie vectors, the more similar they are.\n",
    "\n",
    "#     Let’s say:\n",
    "\n",
    "# You and your friend describe two movies using words like: \"action\", \"romance\", \"alien\", \"comedy\", etc.\n",
    "\n",
    "# You count how many times each word is used and put it in a table (a vector).\n",
    "#     | Word    | Avatar (A) | Titanic (B) |\n",
    "# | ------- | ---------- | ----------- |\n",
    "# | action  | 2          | 0           |\n",
    "# | alien   | 1          | 0           |\n",
    "# | romance | 1          | 2           |\n",
    "# | ship    | 0          | 1           |\n",
    "\n",
    "#      Represent as vectors:\n",
    "\n",
    "# Avatar = [2, 1, 1, 0]\n",
    "\n",
    "# Titanic = [0, 0, 2, 1]\n",
    "\n",
    "# Now what?\n",
    "# Cosine similarity will:\n",
    "\n",
    "# Ignore the length of the vectors\n",
    "\n",
    "# Focus on direction (i.e., what words are used, not how many)\n",
    "\n",
    "# Return a number between 0 and 1:\n",
    "\n",
    "# 1 → exactly same words used (most similar)\n",
    "\n",
    "# 0 → no words in common (totally different)\n",
    "# You have a TF-IDF vector for each movie → like [0.1, 0.4, 0, 0.6, 0, ...]\n",
    "\n",
    "# Cosine similarity is computed between every pair of movies\n",
    "\n",
    "# The result is a matrix of size N x N (e.g., 1000x1000 if 1000 movies)\n",
    "\n",
    "# cosine_sim[i][j] = similarity score between movie i and j"
   ]
  },
  {
   "cell_type": "code",
   "execution_count": null,
   "id": "c0ba429d-d29a-4bc8-90bc-0460c9499b34",
   "metadata": {},
   "outputs": [],
   "source": []
  }
 ],
 "metadata": {
  "kernelspec": {
   "display_name": "Python 3 (ipykernel)",
   "language": "python",
   "name": "python3"
  },
  "language_info": {
   "codemirror_mode": {
    "name": "ipython",
    "version": 3
   },
   "file_extension": ".py",
   "mimetype": "text/x-python",
   "name": "python",
   "nbconvert_exporter": "python",
   "pygments_lexer": "ipython3",
   "version": "3.13.5"
  }
 },
 "nbformat": 4,
 "nbformat_minor": 5
}
